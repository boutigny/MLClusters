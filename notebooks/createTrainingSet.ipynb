{
 "cells": [
  {
   "cell_type": "markdown",
   "id": "5cf5573f-edfe-438e-905b-51c2e3a31a92",
   "metadata": {},
   "source": [
    "## Create training and validation sets for Yolo"
   ]
  },
  {
   "cell_type": "code",
   "execution_count": 50,
   "id": "9262ba3d-f9d1-4003-bf61-b1886a6f1c46",
   "metadata": {},
   "outputs": [],
   "source": [
    "import os\n",
    "import subprocess\n",
    "from os import listdir\n",
    "from os.path import isfile, join\n",
    "import glob\n",
    "import random\n",
    "\n",
    "nTrain = 5000\n",
    "\n",
    "dir = \"/sps/lsst/users/boutigny/ML/DC2\"\n",
    "imageDir = os.path.join(dir,'images-gri-16bits')\n",
    "labelDir = os.path.join(dir,'labels')\n",
    "\n",
    "yoloImageTrain = os.path.join(dir, 'yoloTrain-gri-16bits', 'images')\n",
    "yoloLabelTrain = os.path.join(dir, 'yoloTrain-gri-16bits', 'labels')\n",
    "yoloImageVal = os.path.join(dir, 'yoloVal-gri-16bits', 'images')\n",
    "yoloLabelVal = os.path.join(dir, 'yoloVal-gri-16bits', 'labels')"
   ]
  },
  {
   "cell_type": "code",
   "execution_count": 51,
   "id": "e794f21f-7548-41a9-aa2d-7960862a96b6",
   "metadata": {},
   "outputs": [
    {
     "name": "stdout",
     "output_type": "stream",
     "text": [
      "Number of images in /sps/lsst/users/boutigny/ML/DC2/images-gri-16bits: 6743\n"
     ]
    }
   ],
   "source": [
    "images = glob.glob(imageDir+'/*.tif')\n",
    "nTot = len(images)\n",
    "print('Number of images in {}: {}'.format(imageDir, nTot))\n",
    "\n",
    "nVal = len(images)-nTrain"
   ]
  },
  {
   "cell_type": "code",
   "execution_count": 52,
   "id": "1b4613f1-cddf-49cd-ad93-4a1e950836ed",
   "metadata": {},
   "outputs": [],
   "source": [
    "# Randomly select nTrain images among all\n",
    "train = random.sample(range(nTot), nTrain)"
   ]
  },
  {
   "cell_type": "code",
   "execution_count": 53,
   "id": "052cdd85-8ad2-4bd5-8788-c1aec3609f51",
   "metadata": {},
   "outputs": [],
   "source": [
    "for indx in train:\n",
    "    imagePath = images[indx]\n",
    "    imageName = os.path.split(imagePath)[1]\n",
    "    labelName = imageName.replace('.tif', '.txt')\n",
    "    #print(imagePath, imageName, labelName)\n",
    "    # Create a symlink in the image training directory\n",
    "    if os.path.exists(os.path.join(yoloImageTrain,imageName)) == False:\n",
    "        os.symlink(imagePath, os.path.join(yoloImageTrain,imageName))\n",
    "        \n",
    "    # Create a symlink in the label training directory\n",
    "    if os.path.exists(os.path.join(yoloLabelTrain, labelName)) == False:\n",
    "        if os.path.exists(os.path.join(labelDir,labelName)):\n",
    "            os.symlink(os.path.join(labelDir,labelName), os.path.join(yoloLabelTrain,labelName))"
   ]
  },
  {
   "cell_type": "code",
   "execution_count": 54,
   "id": "63a0eec3-40bf-4616-b0bd-5590eafcc7f5",
   "metadata": {},
   "outputs": [],
   "source": [
    "# Find the list of validation images (those which are not in the training set)\n",
    "valid = list(set(range(nTot)) - set(train))"
   ]
  },
  {
   "cell_type": "code",
   "execution_count": 55,
   "id": "43531882-606a-4cb6-961d-812fb696238d",
   "metadata": {},
   "outputs": [],
   "source": [
    "for indx in valid:\n",
    "    imagePath = images[indx]\n",
    "    imageName = os.path.split(imagePath)[1]\n",
    "    labelName = imageName.replace('.tif', '.txt')\n",
    "    #print(imagePath, imageName, labelName)\n",
    "    # Create a symlink in the image training directory\n",
    "    if os.path.exists(os.path.join(yoloImageVal,imageName)) == False:\n",
    "        os.symlink(imagePath, os.path.join(yoloImageVal,imageName))\n",
    "        \n",
    "    # Create a symlink in the label training directory\n",
    "    if os.path.exists(os.path.join(yoloLabelVal, labelName)) == False:\n",
    "        if os.path.exists(os.path.join(labelDir,labelName)):\n",
    "            os.symlink(os.path.join(labelDir,labelName), os.path.join(yoloLabelVal,labelName))"
   ]
  },
  {
   "cell_type": "code",
   "execution_count": null,
   "id": "2c671930-3dc0-4f6f-a073-4d6f1d0ff4a0",
   "metadata": {},
   "outputs": [],
   "source": []
  }
 ],
 "metadata": {
  "kernelspec": {
   "display_name": "desc",
   "language": "python",
   "name": "desc"
  },
  "language_info": {
   "codemirror_mode": {
    "name": "ipython",
    "version": 3
   },
   "file_extension": ".py",
   "mimetype": "text/x-python",
   "name": "python",
   "nbconvert_exporter": "python",
   "pygments_lexer": "ipython3",
   "version": "3.8.8"
  }
 },
 "nbformat": 4,
 "nbformat_minor": 5
}
